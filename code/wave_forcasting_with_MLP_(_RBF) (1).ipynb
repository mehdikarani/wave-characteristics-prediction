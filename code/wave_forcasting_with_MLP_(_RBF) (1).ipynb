{
  "nbformat": 4,
  "nbformat_minor": 0,
  "metadata": {
    "colab": {
      "provenance": [],
      "machine_shape": "hm"
    },
    "kernelspec": {
      "name": "python3",
      "display_name": "Python 3"
    }
  },
  "cells": [
    {
      "cell_type": "code",
      "source": [
        "import numpy as np\n",
        "import pandas as pd\n",
        "from sklearn.preprocessing import StandardScaler\n",
        "from sklearn.metrics import mean_squared_error\n",
        "from sklearn.cluster import KMeans\n",
        "from sklearn.pipeline import make_pipeline\n",
        "from sklearn.neural_network import MLPRegressor\n",
        "\n",
        "from google.colab import drive\n",
        "drive.mount('/content/drive')\n",
        "df = pd.read_excel('/content/drive/My Drive/datasetpr.xls')\n",
        "\n",
        "X1 = df.loc[:, ['Ws_2']].values\n",
        "X2 = df.loc[:, ['DirpWave_1', 'WDir_2']].values\n",
        "X3 = df.loc[:, ['Hs_pre']].values\n",
        "y = df.loc[:, ['Hs']].values\n",
        "\n",
        "scaler1 = StandardScaler().fit(X1)\n",
        "X1 = scaler1.transform(X1)\n",
        "scaler2 = StandardScaler().fit(X2)\n",
        "X2 = scaler2.transform(X2)\n",
        "scaler3 = StandardScaler().fit(X3)\n",
        "X3 = scaler3.transform(X3)\n",
        "scaler4 = StandardScaler().fit(y)\n",
        "y = scaler4.transform(y)\n",
        "\n",
        "X = np.hstack((X1, X2, X3))\n",
        "\n",
        "X_test = X[20461:26307]\n",
        "y_test = y[20461:26307].ravel()\n",
        "X_train = np.concatenate((X[0:20460], X[26308:]), axis=0)\n",
        "y_train = np.concatenate((y[0:20460], y[26308:]), axis=0).ravel()"
      ],
      "metadata": {
        "colab": {
          "base_uri": "https://localhost:8080/"
        },
        "id": "o707qTVHUqFz",
        "outputId": "c3ab7f3e-b72b-46a4-945c-a73aa64d0f42"
      },
      "execution_count": null,
      "outputs": [
        {
          "output_type": "stream",
          "name": "stdout",
          "text": [
            "Drive already mounted at /content/drive; to attempt to forcibly remount, call drive.mount(\"/content/drive\", force_remount=True).\n"
          ]
        }
      ]
    },
    {
      "cell_type": "code",
      "source": [
        "# create RBF layer\n",
        "n_clusters = 10\n",
        "kmeans = KMeans(n_clusters=n_clusters, random_state=0)\n",
        "pipeline = make_pipeline(kmeans)\n",
        "pipeline.fit(X_train)\n",
        "rbf_features = pipeline.transform(X_train)"
      ],
      "metadata": {
        "id": "8sLm9qP_VHB6"
      },
      "execution_count": null,
      "outputs": []
    },
    {
      "cell_type": "code",
      "source": [
        "# create MLPRegressor model\n",
        "mlp_model = MLPRegressor(hidden_layer_sizes=(10,15,10,10), activation='relu', solver='lbfgs', max_iter=500)"
      ],
      "metadata": {
        "id": "FGdoo8axVKcx"
      },
      "execution_count": null,
      "outputs": []
    },
    {
      "cell_type": "code",
      "source": [
        "# set RBF features as input to MLP model\n",
        "X_train_rbf = np.hstack([X_train, rbf_features])\n",
        "mlp_model.fit(X_train_rbf, y_train)"
      ],
      "metadata": {
        "colab": {
          "base_uri": "https://localhost:8080/"
        },
        "id": "rFaosUEjVQuF",
        "outputId": "7c43dfe7-eba8-401c-ed5c-a5e0a69ec37d"
      },
      "execution_count": null,
      "outputs": [
        {
          "output_type": "stream",
          "name": "stderr",
          "text": [
            "/usr/local/lib/python3.8/dist-packages/sklearn/neural_network/_multilayer_perceptron.py:549: ConvergenceWarning: lbfgs failed to converge (status=1):\n",
            "STOP: TOTAL NO. of ITERATIONS REACHED LIMIT.\n",
            "\n",
            "Increase the number of iterations (max_iter) or scale the data as shown in:\n",
            "    https://scikit-learn.org/stable/modules/preprocessing.html\n",
            "  self.n_iter_ = _check_optimize_result(\"lbfgs\", opt_res, self.max_iter)\n"
          ]
        },
        {
          "output_type": "execute_result",
          "data": {
            "text/plain": [
              "MLPRegressor(hidden_layer_sizes=(10, 15, 10, 10), max_iter=500, solver='lbfgs')"
            ]
          },
          "metadata": {},
          "execution_count": 4
        }
      ]
    },
    {
      "cell_type": "code",
      "source": [
        "# apply RBF transformation to test data\n",
        "rbf_features_test = pipeline.transform(X_test)\n",
        "X_test_rbf = np.hstack([X_test, rbf_features_test])\n"
      ],
      "metadata": {
        "id": "nMa1szvAVU2p"
      },
      "execution_count": null,
      "outputs": []
    },
    {
      "cell_type": "code",
      "source": [
        "# predicting on the testing set\n",
        "y_pred = mlp_model.predict(X_test_rbf)\n"
      ],
      "metadata": {
        "id": "FR8F7kuCVdqh"
      },
      "execution_count": null,
      "outputs": []
    },
    {
      "cell_type": "code",
      "source": [
        "# reverse scaling of y data\n",
        "y_pred = scaler4.inverse_transform(y_pred.reshape(-1,1))\n",
        "y_test = scaler4.inverse_transform(y_test.reshape(-1,1))\n"
      ],
      "metadata": {
        "id": "gGmS5U28VeVG"
      },
      "execution_count": null,
      "outputs": []
    },
    {
      "cell_type": "code",
      "source": [
        "# calculating the RMSE\n",
        "rmse = np.sqrt(mean_squared_error(y_test, y_pred))\n",
        "\n",
        "# calculating the scatter index (SI)\n",
        "mean = np.mean(X_test)\n",
        "si = rmse / mean\n",
        "\n",
        "# calculating the bias\n",
        "bias = np.mean(y_pred) - np.mean(y_test)\n",
        "\n",
        "print('RMSE of MLPRegressor with RBF model:', rmse)\n",
        "print('SI of MLPRegressor with RBF model:', si)\n",
        "print('Bias of MLPRegressor with RBF model:', bias)"
      ],
      "metadata": {
        "colab": {
          "base_uri": "https://localhost:8080/"
        },
        "id": "AYxb_jycVoIR",
        "outputId": "a5f2889c-cc76-4e43-a6ea-a0d5b80a8ed4"
      },
      "execution_count": null,
      "outputs": [
        {
          "output_type": "stream",
          "name": "stdout",
          "text": [
            "RMSE of MLPRegressor with RBF model: 0.0644216821099362\n",
            "SI of MLPRegressor with RBF model: 2.669144430080914\n",
            "Bias of MLPRegressor with RBF model: -4.676845684442599e-05\n"
          ]
        }
      ]
    },
    {
      "cell_type": "code",
      "source": [
        "import scipy.stats as stats\n",
        "y_test = y_test.ravel()\n",
        "y_pred = y_pred.ravel()\n",
        "\n",
        "r, p_value = stats.pearsonr(y_test, y_pred)\n",
        "\n",
        "print(\"Pearson correlation coefficient of testing data:\", r)"
      ],
      "metadata": {
        "colab": {
          "base_uri": "https://localhost:8080/"
        },
        "id": "RwYAGWoUW6oa",
        "outputId": "6c6f90a1-032c-4b40-aef9-2a9cd63778f0"
      },
      "execution_count": null,
      "outputs": [
        {
          "output_type": "stream",
          "name": "stdout",
          "text": [
            "Pearson correlation coefficient of testing data: 0.9951496496642307\n"
          ]
        }
      ]
    },
    {
      "cell_type": "code",
      "source": [
        "# predicting on the testing set\n",
        "y_pred_train = mlp_model.predict(X_train_rbf)\n",
        "\n",
        "# reverse scaling of y data\n",
        "y_pred_train = scaler4.inverse_transform(y_pred_train.reshape(-1,1))\n",
        "y_train = scaler4.inverse_transform(y_train.reshape(-1,1))"
      ],
      "metadata": {
        "id": "gtRsbw6-b_7p"
      },
      "execution_count": null,
      "outputs": []
    },
    {
      "cell_type": "code",
      "source": [
        "\n",
        "y_train = y_train.ravel()\n",
        "y_pred_train = y_pred_train.ravel()\n",
        "\n",
        "R_train, p_value = stats.pearsonr(y_pred_train, y_train)\n",
        "\n",
        "print(\"Pearson correlation coefficient of training:\", R_train)"
      ],
      "metadata": {
        "colab": {
          "base_uri": "https://localhost:8080/"
        },
        "id": "B_thIu6ZbvyI",
        "outputId": "f6d7fe77-0628-4027-edcd-9bf617fe9d32"
      },
      "execution_count": null,
      "outputs": [
        {
          "output_type": "stream",
          "name": "stdout",
          "text": [
            "Pearson correlation coefficient of training: 0.9944793758158372\n"
          ]
        }
      ]
    },
    {
      "cell_type": "code",
      "source": [
        "import matplotlib.pyplot as plt\n",
        "plt.scatter(y_test, y_pred)\n",
        "\n",
        "# set the x and y axis labels\n",
        "plt.xlabel('observed significant wave height(m)')\n",
        "plt.ylabel('predicted significant wave height(m)')\n",
        "\n",
        "x=np.linspace(0,5.5,100)\n",
        "y=x\n",
        "plt.plot(x, y,color='k')\n",
        "# display the plot\n",
        "plt.show()\n",
        "\n"
      ],
      "metadata": {
        "colab": {
          "base_uri": "https://localhost:8080/",
          "height": 279
        },
        "id": "DDAsZkVIBj0Y",
        "outputId": "29cbaf85-e478-4046-b0e3-910295574d1d"
      },
      "execution_count": null,
      "outputs": [
        {
          "output_type": "display_data",
          "data": {
            "text/plain": [
              "<Figure size 432x288 with 1 Axes>"
            ],
            "image/png": "[encoded data removed]"
          },
          "metadata": {
            "needs_background": "light"
          }
        }
      ]
    },
    {
      "cell_type": "code",
      "source": [],
      "metadata": {
        "colab": {
          "base_uri": "https://localhost:8080/"
        },
        "id": "3-62BelNfOLw",
        "outputId": "89f19f51-47f0-40e6-fc3a-ba4ee7fe4655"
      },
      "execution_count": null,
      "outputs": [
        {
          "output_type": "execute_result",
          "data": {
            "text/plain": [
              "array([[3.48331928, 0.45930032, 4.72932019, ..., 2.52533677, 2.91906173,\n",
              "        3.75056322],\n",
              "       [2.96193311, 0.85288918, 4.0199587 , ..., 2.08018201, 2.43527329,\n",
              "        3.07012968],\n",
              "       [2.9114016 , 0.51020892, 4.02901129, ..., 1.97709388, 2.3607449 ,\n",
              "        3.08970901],\n",
              "       ...,\n",
              "       [3.3719887 , 0.92905471, 5.05572245, ..., 2.42269966, 3.15779106,\n",
              "        3.89488931],\n",
              "       [3.11040683, 1.54062588, 4.99144974, ..., 2.27835507, 3.49706351,\n",
              "        3.74110414],\n",
              "       [3.33980871, 0.58238915, 4.86799622, ..., 2.37550403, 3.02742463,\n",
              "        3.76448001]])"
            ]
          },
          "metadata": {},
          "execution_count": 13
        }
      ]
    },
    {
      "cell_type": "code",
      "source": [],
      "metadata": {
        "colab": {
          "base_uri": "https://localhost:8080/"
        },
        "id": "j3lHruR3fagP",
        "outputId": "ec2b5819-0cc9-4ff4-c447-fcaa212fd56f"
      },
      "execution_count": null,
      "outputs": [
        {
          "output_type": "execute_result",
          "data": {
            "text/plain": [
              "array([[-0.60013888, -1.86792807, -1.66929139, -0.77048796],\n",
              "       [ 0.03047922, -1.27567175, -1.46819054, -0.71941997],\n",
              "       [-0.47552573, -1.27567175, -1.47930667, -0.27683076],\n",
              "       ...,\n",
              "       [-1.55173027, -1.86792807, -1.22161462, -0.77048796],\n",
              "       [-1.79340427, -1.86792807, -0.46268629, -0.78751062],\n",
              "       [-1.14012923, -1.86792807, -1.34490258, -0.78751062]])"
            ]
          },
          "metadata": {},
          "execution_count": 14
        }
      ]
    }
  ]
}