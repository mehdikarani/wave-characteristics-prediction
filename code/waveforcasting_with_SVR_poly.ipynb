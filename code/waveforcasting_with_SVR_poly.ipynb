{
  "nbformat": 4,
  "nbformat_minor": 0,
  "metadata": {
    "colab": {
      "provenance": [],
      "machine_shape": "hm"
    },
    "kernelspec": {
      "name": "python3",
      "display_name": "Python 3"
    }
  },
  "cells": [
    {
      "cell_type": "code",
      "source": [
        "import numpy as np\n",
        "from sklearn.svm import SVR\n",
        "import matplotlib.pyplot as plt\n",
        "import pandas as pd\n",
        "from sklearn.model_selection import cross_val_score, train_test_split\n",
        "from sklearn.utils import column_or_1d\n",
        "from google.colab import drive\n",
        "drive.mount('/content/drive')\n",
        "df = pd.read_excel(r'/content/drive/My Drive/datasetpr.xls')\n",
        "df.head()\n"
      ],
      "metadata": {
        "colab": {
          "base_uri": "https://localhost:8080/",
          "height": 223
        },
        "id": "ZBm_u6NAlzUi",
        "outputId": "764a4491-b442-4780-9576-1c329e54250f"
      },
      "execution_count": null,
      "outputs": [
        {
          "output_type": "stream",
          "name": "stdout",
          "text": [
            "Drive already mounted at /content/drive; to attempt to forcibly remount, call drive.mount(\"/content/drive\", force_remount=True).\n"
          ]
        },
        {
          "output_type": "execute_result",
          "data": {
            "text/plain": [
              "   Ws_1  Ws_2  WDir_1  WDir_2    Hs  Hs_pre  DirpWave_1  DirpWave_2    Tp  \\\n",
              "0  3.12  3.71    43.8    63.3  0.04    0.01         0.0        67.5  2.61   \n",
              "1  3.71  5.38    63.3    83.2  0.30    0.04        67.5        67.5  2.09   \n",
              "2  5.38  4.04    83.2    82.1  0.28    0.30        67.5        85.4  2.82   \n",
              "3  4.04  3.68    82.1    80.9  0.22    0.28        85.4        77.4  2.51   \n",
              "4  3.68  4.96    80.9    76.9  0.39    0.22        77.4        69.6  3.37   \n",
              "\n",
              "        fechL  \n",
              "0  217.303131  \n",
              "1  186.962463  \n",
              "2  186.962463  \n",
              "3  186.962463  \n",
              "4  186.962463  "
            ],
            "text/html": [
              "\n",
              "  <div id=\"df-db13d1d7-8131-4b96-8b95-87938c8349f7\">\n",
              "    <div class=\"colab-df-container\">\n",
              "      <div>\n",
              "<style scoped>\n",
              "    .dataframe tbody tr th:only-of-type {\n",
              "        vertical-align: middle;\n",
              "    }\n",
              "\n",
              "    .dataframe tbody tr th {\n",
              "        vertical-align: top;\n",
              "    }\n",
              "\n",
              "    .dataframe thead th {\n",
              "        text-align: right;\n",
              "    }\n",
              "</style>\n",
              "<table border=\"1\" class=\"dataframe\">\n",
              "  <thead>\n",
              "    <tr style=\"text-align: right;\">\n",
              "      <th></th>\n",
              "      <th>Ws_1</th>\n",
              "      <th>Ws_2</th>\n",
              "      <th>WDir_1</th>\n",
              "      <th>WDir_2</th>\n",
              "      <th>Hs</th>\n",
              "      <th>Hs_pre</th>\n",
              "      <th>DirpWave_1</th>\n",
              "      <th>DirpWave_2</th>\n",
              "      <th>Tp</th>\n",
              "      <th>fechL</th>\n",
              "    </tr>\n",
              "  </thead>\n",
              "  <tbody>\n",
              "    <tr>\n",
              "      <th>0</th>\n",
              "      <td>3.12</td>\n",
              "      <td>3.71</td>\n",
              "      <td>43.8</td>\n",
              "      <td>63.3</td>\n",
              "      <td>0.04</td>\n",
              "      <td>0.01</td>\n",
              "      <td>0.0</td>\n",
              "      <td>67.5</td>\n",
              "      <td>2.61</td>\n",
              "      <td>217.303131</td>\n",
              "    </tr>\n",
              "    <tr>\n",
              "      <th>1</th>\n",
              "      <td>3.71</td>\n",
              "      <td>5.38</td>\n",
              "      <td>63.3</td>\n",
              "      <td>83.2</td>\n",
              "      <td>0.30</td>\n",
              "      <td>0.04</td>\n",
              "      <td>67.5</td>\n",
              "      <td>67.5</td>\n",
              "      <td>2.09</td>\n",
              "      <td>186.962463</td>\n",
              "    </tr>\n",
              "    <tr>\n",
              "      <th>2</th>\n",
              "      <td>5.38</td>\n",
              "      <td>4.04</td>\n",
              "      <td>83.2</td>\n",
              "      <td>82.1</td>\n",
              "      <td>0.28</td>\n",
              "      <td>0.30</td>\n",
              "      <td>67.5</td>\n",
              "      <td>85.4</td>\n",
              "      <td>2.82</td>\n",
              "      <td>186.962463</td>\n",
              "    </tr>\n",
              "    <tr>\n",
              "      <th>3</th>\n",
              "      <td>4.04</td>\n",
              "      <td>3.68</td>\n",
              "      <td>82.1</td>\n",
              "      <td>80.9</td>\n",
              "      <td>0.22</td>\n",
              "      <td>0.28</td>\n",
              "      <td>85.4</td>\n",
              "      <td>77.4</td>\n",
              "      <td>2.51</td>\n",
              "      <td>186.962463</td>\n",
              "    </tr>\n",
              "    <tr>\n",
              "      <th>4</th>\n",
              "      <td>3.68</td>\n",
              "      <td>4.96</td>\n",
              "      <td>80.9</td>\n",
              "      <td>76.9</td>\n",
              "      <td>0.39</td>\n",
              "      <td>0.22</td>\n",
              "      <td>77.4</td>\n",
              "      <td>69.6</td>\n",
              "      <td>3.37</td>\n",
              "      <td>186.962463</td>\n",
              "    </tr>\n",
              "  </tbody>\n",
              "</table>\n",
              "</div>\n",
              "      <button class=\"colab-df-convert\" onclick=\"convertToInteractive('df-db13d1d7-8131-4b96-8b95-87938c8349f7')\"\n",
              "              title=\"Convert this dataframe to an interactive table.\"\n",
              "              style=\"display:none;\">\n",
              "        \n",
              "  <svg xmlns=\"http://www.w3.org/2000/svg\" height=\"24px\"viewBox=\"0 0 24 24\"\n",
              "       width=\"24px\">\n",
              "    <path d=\"M0 0h24v24H0V0z\" fill=\"none\"/>\n",
              "    <path d=\"M18.56 5.44l.94 2.06.94-2.06 2.06-.94-2.06-.94-.94-2.06-.94 2.06-2.06.94zm-11 1L8.5 8.5l.94-2.06 2.06-.94-2.06-.94L8.5 2.5l-.94 2.06-2.06.94zm10 10l.94 2.06.94-2.06 2.06-.94-2.06-.94-.94-2.06-.94 2.06-2.06.94z\"/><path d=\"M17.41 7.96l-1.37-1.37c-.4-.4-.92-.59-1.43-.59-.52 0-1.04.2-1.43.59L10.3 9.45l-7.72 7.72c-.78.78-.78 2.05 0 2.83L4 21.41c.39.39.9.59 1.41.59.51 0 1.02-.2 1.41-.59l7.78-7.78 2.81-2.81c.8-.78.8-2.07 0-2.86zM5.41 20L4 18.59l7.72-7.72 1.47 1.35L5.41 20z\"/>\n",
              "  </svg>\n",
              "      </button>\n",
              "      \n",
              "  <style>\n",
              "    .colab-df-container {\n",
              "      display:flex;\n",
              "      flex-wrap:wrap;\n",
              "      gap: 12px;\n",
              "    }\n",
              "\n",
              "    .colab-df-convert {\n",
              "      background-color: #E8F0FE;\n",
              "      border: none;\n",
              "      border-radius: 50%;\n",
              "      cursor: pointer;\n",
              "      display: none;\n",
              "      fill: #1967D2;\n",
              "      height: 32px;\n",
              "      padding: 0 0 0 0;\n",
              "      width: 32px;\n",
              "    }\n",
              "\n",
              "    .colab-df-convert:hover {\n",
              "      background-color: #E2EBFA;\n",
              "      box-shadow: 0px 1px 2px rgba(60, 64, 67, 0.3), 0px 1px 3px 1px rgba(60, 64, 67, 0.15);\n",
              "      fill: #174EA6;\n",
              "    }\n",
              "\n",
              "    [theme=dark] .colab-df-convert {\n",
              "      background-color: #3B4455;\n",
              "      fill: #D2E3FC;\n",
              "    }\n",
              "\n",
              "    [theme=dark] .colab-df-convert:hover {\n",
              "      background-color: #434B5C;\n",
              "      box-shadow: 0px 1px 3px 1px rgba(0, 0, 0, 0.15);\n",
              "      filter: drop-shadow(0px 1px 2px rgba(0, 0, 0, 0.3));\n",
              "      fill: #FFFFFF;\n",
              "    }\n",
              "  </style>\n",
              "\n",
              "      <script>\n",
              "        const buttonEl =\n",
              "          document.querySelector('#df-db13d1d7-8131-4b96-8b95-87938c8349f7 button.colab-df-convert');\n",
              "        buttonEl.style.display =\n",
              "          google.colab.kernel.accessAllowed ? 'block' : 'none';\n",
              "\n",
              "        async function convertToInteractive(key) {\n",
              "          const element = document.querySelector('#df-db13d1d7-8131-4b96-8b95-87938c8349f7');\n",
              "          const dataTable =\n",
              "            await google.colab.kernel.invokeFunction('convertToInteractive',\n",
              "                                                     [key], {});\n",
              "          if (!dataTable) return;\n",
              "\n",
              "          const docLinkHtml = 'Like what you see? Visit the ' +\n",
              "            '<a target=\"_blank\" href=https://colab.research.google.com/notebooks/data_table.ipynb>data table notebook</a>'\n",
              "            + ' to learn more about interactive tables.';\n",
              "          element.innerHTML = '';\n",
              "          dataTable['output_type'] = 'display_data';\n",
              "          await google.colab.output.renderOutput(dataTable, element);\n",
              "          const docLink = document.createElement('div');\n",
              "          docLink.innerHTML = docLinkHtml;\n",
              "          element.appendChild(docLink);\n",
              "        }\n",
              "      </script>\n",
              "    </div>\n",
              "  </div>\n",
              "  "
            ]
          },
          "metadata": {},
          "execution_count": 1
        }
      ]
    },
    {
      "cell_type": "code",
      "source": [
        "X1=df.loc[:, [ 'Ws_2']].values\n",
        "X2=df.loc[:, [ 'DirpWave_1','WDir_2']].values\n",
        "X3=df.loc[:, ['Hs_pre']].values\n",
        "y=df.loc[:,['Hs']].values\n"
      ],
      "metadata": {
        "id": "06qP4SlumS8F"
      },
      "execution_count": null,
      "outputs": []
    },
    {
      "cell_type": "code",
      "source": [
        "from sklearn.preprocessing import StandardScaler\n",
        "\n",
        "scaler1 = StandardScaler().fit(X1)\n",
        "X1 = scaler1.transform(X1)\n",
        "scaler2 = StandardScaler().fit(X2)\n",
        "X2 = scaler2.transform(X2)\n",
        "scaler3 = StandardScaler().fit(X3)\n",
        "X3 = scaler3.transform(X3)\n",
        "scaler4= StandardScaler().fit(y)\n",
        "y = scaler4.transform(y)"
      ],
      "metadata": {
        "id": "ZDxvZKnXmVCw"
      },
      "execution_count": null,
      "outputs": []
    },
    {
      "cell_type": "code",
      "source": [
        "X=np.hstack((X1, X2,X3))\n",
        "\n",
        "X_test=X[20461:26307]\n",
        "y_test=y[20461:26307].ravel()\n",
        "X_train=np.concatenate((X[0:20460],X[26308:]), axis=0)\n",
        "y_train=np.concatenate((y[0:20460],y[26308:]), axis=0).ravel()"
      ],
      "metadata": {
        "id": "J4WpmZqCmWtH"
      },
      "execution_count": null,
      "outputs": []
    },
    {
      "cell_type": "code",
      "source": [
        "svr_poly = SVR(kernel=\"poly\", degree=1, C=100, epsilon=0.01)\n"
      ],
      "metadata": {
        "id": "l0SYmdtTmZVs"
      },
      "execution_count": null,
      "outputs": []
    },
    {
      "cell_type": "code",
      "source": [
        "po_md=svr_poly.fit(X_train,y_train)"
      ],
      "metadata": {
        "id": "J74KNHTwmdK5"
      },
      "execution_count": null,
      "outputs": []
    },
    {
      "cell_type": "code",
      "source": [
        "po_md.score(X_train,y_train)"
      ],
      "metadata": {
        "colab": {
          "base_uri": "https://localhost:8080/"
        },
        "id": "iDWtQ_Asm3ae",
        "outputId": "68b63729-b35a-4ab6-856c-dbeda02a5810"
      },
      "execution_count": null,
      "outputs": [
        {
          "output_type": "execute_result",
          "data": {
            "text/plain": [
              "0.9586152240399679"
            ]
          },
          "metadata": {},
          "execution_count": 11
        }
      ]
    },
    {
      "cell_type": "code",
      "source": [
        "po_md.score(X_test,y_test)"
      ],
      "metadata": {
        "colab": {
          "base_uri": "https://localhost:8080/"
        },
        "id": "YMPzDyNnnGUu",
        "outputId": "c8bcff0c-b999-4ff2-a855-1e9a6103d779"
      },
      "execution_count": null,
      "outputs": [
        {
          "output_type": "execute_result",
          "data": {
            "text/plain": [
              "0.9590814672120745"
            ]
          },
          "metadata": {},
          "execution_count": 12
        }
      ]
    },
    {
      "cell_type": "code",
      "source": [
        "from sklearn.metrics import mean_squared_error\n",
        "\n",
        "# predict on the test set\n",
        "y_pred = po_md.predict(X_test)\n",
        "\n",
        "# calculate the RMSE\n",
        "rmse = np.sqrt(mean_squared_error(y_test, y_pred))\n",
        "\n",
        "# print the RMSE\n",
        "print(\"RMSE of the SVR(poly) model is:\", rmse)"
      ],
      "metadata": {
        "colab": {
          "base_uri": "https://localhost:8080/"
        },
        "id": "Sup4WwMxNM29",
        "outputId": "16e34ac4-cb26-4e94-b0a7-2d21130af769"
      },
      "execution_count": null,
      "outputs": [
        {
          "output_type": "stream",
          "name": "stdout",
          "text": [
            "RMSE of the XGBoost model is: 0.2022832983415227\n"
          ]
        }
      ]
    },
    {
      "cell_type": "code",
      "source": [
        "\n",
        "# calculate the SI\n",
        "mean=np.mean(X_test)\n",
        "SI=rmse/mean\n",
        "# print the RMSE\n",
        "print(\"SI of the SVR(poly) model is:\", SI)"
      ],
      "metadata": {
        "colab": {
          "base_uri": "https://localhost:8080/"
        },
        "id": "aMi1S6sGNWhT",
        "outputId": "31c9ac62-0972-477b-d950-e6caa5d2dc5c"
      },
      "execution_count": null,
      "outputs": [
        {
          "output_type": "stream",
          "name": "stdout",
          "text": [
            "SI of the XGBoost model is: 6.787934036566446\n"
          ]
        }
      ]
    },
    {
      "cell_type": "code",
      "source": [
        "# calculate the bias\n",
        "bias = np.mean(y_pred) - np.mean(y_test)\n",
        "\n",
        "# print the bias\n",
        "print(\"Bias of the SVR(poly) model is:\", bias)"
      ],
      "metadata": {
        "colab": {
          "base_uri": "https://localhost:8080/"
        },
        "id": "MxSIKj9XPwBD",
        "outputId": "75bcce45-6812-404c-d082-4a9369374ffc"
      },
      "execution_count": null,
      "outputs": [
        {
          "output_type": "stream",
          "name": "stdout",
          "text": [
            "Bias of the SVR(poly) model is: 0.04844627656513149\n"
          ]
        }
      ]
    },
    {
      "cell_type": "code",
      "source": [
        "import scipy.stats as stats\n",
        "y_test = y_test.ravel()\n",
        "y_pred = y_pred.ravel()\n",
        "\n",
        "r, p_value = stats.pearsonr(y_test, y_pred)\n",
        "\n",
        "print(\"Pearson correlation coefficient:\", r)"
      ],
      "metadata": {
        "colab": {
          "base_uri": "https://localhost:8080/",
          "height": 235
        },
        "id": "hO8YvD-EZ71O",
        "outputId": "cfad4d3f-d2a2-4634-b188-b49adbc897d0"
      },
      "execution_count": null,
      "outputs": [
        {
          "output_type": "error",
          "ename": "NameError",
          "evalue": "ignored",
          "traceback": [
            "\u001b[0;31m---------------------------------------------------------------------------\u001b[0m",
            "\u001b[0;31mNameError\u001b[0m                                 Traceback (most recent call last)",
            "\u001b[0;32m<ipython-input-1-330797e63d91>\u001b[0m in \u001b[0;36m<module>\u001b[0;34m\u001b[0m\n\u001b[1;32m      1\u001b[0m \u001b[0;32mimport\u001b[0m \u001b[0mscipy\u001b[0m\u001b[0;34m.\u001b[0m\u001b[0mstats\u001b[0m \u001b[0;32mas\u001b[0m \u001b[0mstats\u001b[0m\u001b[0;34m\u001b[0m\u001b[0;34m\u001b[0m\u001b[0m\n\u001b[0;32m----> 2\u001b[0;31m \u001b[0my_test\u001b[0m \u001b[0;34m=\u001b[0m \u001b[0my_test\u001b[0m\u001b[0;34m.\u001b[0m\u001b[0mravel\u001b[0m\u001b[0;34m(\u001b[0m\u001b[0;34m)\u001b[0m\u001b[0;34m\u001b[0m\u001b[0;34m\u001b[0m\u001b[0m\n\u001b[0m\u001b[1;32m      3\u001b[0m \u001b[0my_pred\u001b[0m \u001b[0;34m=\u001b[0m \u001b[0my_pred\u001b[0m\u001b[0;34m.\u001b[0m\u001b[0mravel\u001b[0m\u001b[0;34m(\u001b[0m\u001b[0;34m)\u001b[0m\u001b[0;34m\u001b[0m\u001b[0;34m\u001b[0m\u001b[0m\n\u001b[1;32m      4\u001b[0m \u001b[0;34m\u001b[0m\u001b[0m\n\u001b[1;32m      5\u001b[0m \u001b[0mr\u001b[0m\u001b[0;34m,\u001b[0m \u001b[0mp_value\u001b[0m \u001b[0;34m=\u001b[0m \u001b[0mstats\u001b[0m\u001b[0;34m.\u001b[0m\u001b[0mpearsonr\u001b[0m\u001b[0;34m(\u001b[0m\u001b[0my_test\u001b[0m\u001b[0;34m,\u001b[0m \u001b[0my_pred\u001b[0m\u001b[0;34m)\u001b[0m\u001b[0;34m\u001b[0m\u001b[0;34m\u001b[0m\u001b[0m\n",
            "\u001b[0;31mNameError\u001b[0m: name 'y_test' is not defined"
          ]
        }
      ]
    }
  ]
}