{
  "nbformat": 4,
  "nbformat_minor": 0,
  "metadata": {
    "colab": {
      "provenance": [],
      "machine_shape": "hm"
    },
    "kernelspec": {
      "name": "python3",
      "display_name": "Python 3"
    }
  },
  "cells": [
    {
      "cell_type": "code",
      "source": [
        "import numpy as np\n",
        "import pandas as pd\n",
        "from sklearn.neural_network import MLPRegressor\n",
        "from sklearn.preprocessing import StandardScaler\n",
        "from sklearn.metrics import mean_squared_error\n",
        "from google.colab import drive\n",
        "drive.mount('/content/drive')\n",
        "df = pd.read_excel('/content/drive/My Drive/datasetpr.xls')\n",
        "X1 = df.loc[:, ['Ws_2']].values\n",
        "X2 = df.loc[:, ['DirpWave_1', 'WDir_2']].values\n",
        "X3 = df.loc[:, ['Hs_pre']].values\n",
        "y = df.loc[:, ['Hs']].values\n",
        "\n",
        "scaler1 = StandardScaler().fit(X1)\n",
        "X1 = scaler1.transform(X1)\n",
        "scaler2 = StandardScaler().fit(X2)\n",
        "X2 = scaler2.transform(X2)\n",
        "scaler3 = StandardScaler().fit(X3)\n",
        "X3 = scaler3.transform(X3)\n",
        "scaler4 = StandardScaler().fit(y)\n",
        "y = scaler4.transform(y)\n",
        "\n",
        "X = np.hstack((X1, X2, X3))\n",
        "\n",
        "X_test = X[20461:26307]\n",
        "y_test = y[20461:26307].ravel()\n",
        "X_train = np.concatenate((X[0:20460], X[26308:]), axis=0)\n",
        "y_train = np.concatenate((y[0:20460], y[26308:]), axis=0).ravel()"
      ],
      "metadata": {
        "id": "FKYyjRH8RH_x",
        "colab": {
          "base_uri": "https://localhost:8080/"
        },
        "outputId": "f2cbeb52-8ff1-4c65-f8fa-6e1686d9eaa3"
      },
      "execution_count": null,
      "outputs": [
        {
          "output_type": "stream",
          "name": "stdout",
          "text": [
            "Drive already mounted at /content/drive; to attempt to forcibly remount, call drive.mount(\"/content/drive\", force_remount=True).\n"
          ]
        }
      ]
    },
    {
      "cell_type": "code",
      "source": [
        "# creating MLPRegressor model\n",
        "mlp_model = MLPRegressor(hidden_layer_sizes=(7,15,1), activation='relu', solver='adam', max_iter=500)\n"
      ],
      "metadata": {
        "id": "QEKj-6NKRRa4"
      },
      "execution_count": null,
      "outputs": []
    },
    {
      "cell_type": "code",
      "source": [
        "# fitting the MLPRegressor model on training data\n",
        "mlp_model.fit(X_train, y_train)"
      ],
      "metadata": {
        "id": "ty1dIJ2ORSHt",
        "outputId": "61d376c2-63b3-4510-e196-1181050cac56",
        "colab": {
          "base_uri": "https://localhost:8080/"
        }
      },
      "execution_count": null,
      "outputs": [
        {
          "output_type": "execute_result",
          "data": {
            "text/plain": [
              "MLPRegressor(hidden_layer_sizes=(7, 15, 1), max_iter=500)"
            ]
          },
          "metadata": {},
          "execution_count": 3
        }
      ]
    },
    {
      "cell_type": "code",
      "source": [
        "# calculating accuracy of the MLPRegressor model on testing data\n",
        "accuracy = mlp_model.score(X_test, y_test)\n",
        "\n",
        "# predicting on the testing set\n",
        "y_pred = mlp_model.predict(X_test)\n",
        "\n",
        "# calculating the RMSE\n",
        "rmse = np.sqrt(mean_squared_error(y_test, y_pred))\n",
        "\n",
        "# calculating the scatter index (SI)\n",
        "mean = np.mean(X_test)\n",
        "si = rmse / mean\n",
        "\n",
        "# calculating the bias\n",
        "bias = np.mean(y_pred) - np.mean(y_test)\n",
        "\n",
        "print('Accuracy of MLPRegressor model:', accuracy)\n",
        "print('RMSE of MLPRegressor model:', rmse)\n",
        "print('SI of MLPRegressor model:', si)\n",
        "print('Bias of MLPRegressor model:', bias)"
      ],
      "metadata": {
        "id": "LFZkl8GjRgBR",
        "outputId": "92b2260f-90d7-418e-b776-6e8c0cc5fef7",
        "colab": {
          "base_uri": "https://localhost:8080/"
        }
      },
      "execution_count": null,
      "outputs": [
        {
          "output_type": "stream",
          "name": "stdout",
          "text": [
            "Accuracy of MLPRegressor model: 0.9899092714720181\n",
            "RMSE of MLPRegressor model: 0.10961934680421946\n",
            "SI of MLPRegressor model: 4.54179182177024\n",
            "Bias of MLPRegressor model: 0.008826045674126898\n"
          ]
        }
      ]
    },
    {
      "cell_type": "code",
      "source": [
        "import scipy.stats as stats\n",
        "y_test = y_test.ravel()\n",
        "y_pred = y_pred.ravel()\n",
        "\n",
        "r, p_value = stats.pearsonr(y_test, y_pred)\n",
        "\n",
        "print(\"Pearson correlation coefficient:\", r)"
      ],
      "metadata": {
        "colab": {
          "base_uri": "https://localhost:8080/"
        },
        "id": "0dGy0lyxYO4c",
        "outputId": "6146cd86-8126-471f-84d0-59104a694ad1"
      },
      "execution_count": null,
      "outputs": [
        {
          "output_type": "stream",
          "name": "stdout",
          "text": [
            "Pearson correlation coefficient: 0.9951034898874821\n"
          ]
        }
      ]
    },
    {
      "cell_type": "code",
      "source": [
        "r_squared = r**2\n",
        "\n",
        "print(\"R squared:\", r_squared)"
      ],
      "metadata": {
        "colab": {
          "base_uri": "https://localhost:8080/"
        },
        "id": "LrXjM4HhaCnx",
        "outputId": "f3d5cb40-d04a-45b3-ed32-f0866fc40147"
      },
      "execution_count": null,
      "outputs": [
        {
          "output_type": "stream",
          "name": "stdout",
          "text": [
            "R squared: 0.9902309555862462\n"
          ]
        }
      ]
    },
    {
      "cell_type": "code",
      "source": [
        "import matplotlib.pyplot as plt\n",
        "y_test2=scaler4.inverse_transform(y_test.reshape(-1,1))\n",
        "y_pred2=scaler4.inverse_transform(y_pred.reshape(-1,1))\n",
        "plt.scatter(y_test2, y_pred2)\n",
        "\n",
        "# set the x and y axis labels\n",
        "plt.xlabel('observed significant wave height(m)')\n",
        "plt.ylabel('predicted significant wave height(m)')\n",
        "\n",
        "x=np.linspace(0,5,100)\n",
        "y=x\n",
        "plt.plot(x, y,color='k')\n",
        "# display the plot\n",
        "plt.show()\n",
        "\n"
      ],
      "metadata": {
        "colab": {
          "base_uri": "https://localhost:8080/",
          "height": 279
        },
        "id": "gjU51o2cBNX7",
        "outputId": "0a0061b8-53f4-44c0-a43f-c7551552eec1"
      },
      "execution_count": null,
      "outputs": [
        {
          "output_type": "display_data",
          "data": {
            "text/plain": [
              "<Figure size 432x288 with 1 Axes>"
            ],
            "image/png": "[encoded data removed]"
          },
          "metadata": {
            "needs_background": "light"
          }
        }
      ]
    },
    {
      "cell_type": "code",
      "source": [],
      "metadata": {
        "id": "XZFGuBG-mt7u"
      },
      "execution_count": null,
      "outputs": []
    }
  ]
}